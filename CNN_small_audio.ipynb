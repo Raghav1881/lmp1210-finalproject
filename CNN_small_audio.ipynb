{
 "cells": [
  {
   "cell_type": "code",
   "execution_count": 82,
   "metadata": {},
   "outputs": [],
   "source": [
    "import pandas as pd\n",
    "import numpy as np\n",
    "import librosa as lr\n",
    "import os\n",
    "import matplotlib.pyplot as plt\n",
    "import seaborn as sns\n",
    "import random\n",
    "import math\n",
    "\n",
    "from sklearn.model_selection import train_test_split\n",
    "from sklearn.metrics import classification_report, confusion_matrix\n",
    "from keras.models import Sequential\n",
    "from keras.layers import Dense, Conv2D, Flatten, MaxPooling2D, Dropout, LSTM\n",
    "from keras.utils import plot_model, to_categorical\n",
    "from keras.optimizers import Adam\n",
    "import nlpaug.augmenter.audio as ag"
   ]
  },
  {
   "cell_type": "code",
   "execution_count": 2,
   "metadata": {},
   "outputs": [],
   "source": [
    "# Initialize data directory\n",
    "data_dir = os.path.join(os.getcwd(), 'data')\n",
    "pd.set_option('display.width', 500)\n",
    "pd.set_option('display.max_colwidth', 500)"
   ]
  },
  {
   "cell_type": "code",
   "execution_count": 3,
   "metadata": {},
   "outputs": [
    {
     "data": {
      "text/html": [
       "<div>\n",
       "<style scoped>\n",
       "    .dataframe tbody tr th:only-of-type {\n",
       "        vertical-align: middle;\n",
       "    }\n",
       "\n",
       "    .dataframe tbody tr th {\n",
       "        vertical-align: top;\n",
       "    }\n",
       "\n",
       "    .dataframe thead th {\n",
       "        text-align: right;\n",
       "    }\n",
       "</style>\n",
       "<table border=\"1\" class=\"dataframe\">\n",
       "  <thead>\n",
       "    <tr style=\"text-align: right;\">\n",
       "      <th></th>\n",
       "      <th>Start</th>\n",
       "      <th>End</th>\n",
       "      <th>Crackles</th>\n",
       "      <th>Wheezes</th>\n",
       "      <th>duration</th>\n",
       "      <th>start_index</th>\n",
       "      <th>end_index</th>\n",
       "      <th>start_index_int</th>\n",
       "      <th>end_index_int</th>\n",
       "      <th>y_segment</th>\n",
       "      <th>source</th>\n",
       "      <th>chunk_names</th>\n",
       "    </tr>\n",
       "  </thead>\n",
       "  <tbody>\n",
       "    <tr>\n",
       "      <th>0</th>\n",
       "      <td>0.036</td>\n",
       "      <td>0.579</td>\n",
       "      <td>0</td>\n",
       "      <td>0</td>\n",
       "      <td>0.543</td>\n",
       "      <td>793.80</td>\n",
       "      <td>12766.95</td>\n",
       "      <td>793</td>\n",
       "      <td>12766</td>\n",
       "      <td>[-0.04873171 -0.04849143 -0.04823481 ... -0.08675144 -0.08687682\\n -0.08693124]</td>\n",
       "      <td>101_1b1_Al_sc_Meditron</td>\n",
       "      <td>/home/raghav1881/archive/Respiratory_Sound_Database/Respiratory_Sound_Database/data/pre_processed_audio/chunks/101_1b1_Al_sc_Meditron_chunk0.wav</td>\n",
       "    </tr>\n",
       "    <tr>\n",
       "      <th>1</th>\n",
       "      <td>0.579</td>\n",
       "      <td>2.450</td>\n",
       "      <td>0</td>\n",
       "      <td>0</td>\n",
       "      <td>1.871</td>\n",
       "      <td>12766.95</td>\n",
       "      <td>54022.50</td>\n",
       "      <td>12766</td>\n",
       "      <td>54022</td>\n",
       "      <td>[-0.08709788 -0.08723557 -0.08731082 ... -0.02195927 -0.02181599\\n -0.02169704]</td>\n",
       "      <td>101_1b1_Al_sc_Meditron</td>\n",
       "      <td>/home/raghav1881/archive/Respiratory_Sound_Database/Respiratory_Sound_Database/data/pre_processed_audio/chunks/101_1b1_Al_sc_Meditron_chunk1.wav</td>\n",
       "    </tr>\n",
       "    <tr>\n",
       "      <th>2</th>\n",
       "      <td>2.450</td>\n",
       "      <td>3.893</td>\n",
       "      <td>0</td>\n",
       "      <td>0</td>\n",
       "      <td>1.443</td>\n",
       "      <td>54022.50</td>\n",
       "      <td>85840.65</td>\n",
       "      <td>54022</td>\n",
       "      <td>85840</td>\n",
       "      <td>[-0.02180955 -0.02179321 -0.02166934 ... -0.12314763 -0.12324389\\n -0.12332696]</td>\n",
       "      <td>101_1b1_Al_sc_Meditron</td>\n",
       "      <td>/home/raghav1881/archive/Respiratory_Sound_Database/Respiratory_Sound_Database/data/pre_processed_audio/chunks/101_1b1_Al_sc_Meditron_chunk2.wav</td>\n",
       "    </tr>\n",
       "    <tr>\n",
       "      <th>3</th>\n",
       "      <td>3.893</td>\n",
       "      <td>5.793</td>\n",
       "      <td>0</td>\n",
       "      <td>0</td>\n",
       "      <td>1.900</td>\n",
       "      <td>85840.65</td>\n",
       "      <td>127735.65</td>\n",
       "      <td>85840</td>\n",
       "      <td>127735</td>\n",
       "      <td>[-0.12341598 -0.12354963 -0.12356759 ...  0.04257121  0.04275629\\n  0.04287489]</td>\n",
       "      <td>101_1b1_Al_sc_Meditron</td>\n",
       "      <td>/home/raghav1881/archive/Respiratory_Sound_Database/Respiratory_Sound_Database/data/pre_processed_audio/chunks/101_1b1_Al_sc_Meditron_chunk3.wav</td>\n",
       "    </tr>\n",
       "    <tr>\n",
       "      <th>4</th>\n",
       "      <td>5.793</td>\n",
       "      <td>7.521</td>\n",
       "      <td>0</td>\n",
       "      <td>0</td>\n",
       "      <td>1.728</td>\n",
       "      <td>127735.65</td>\n",
       "      <td>165838.05</td>\n",
       "      <td>127735</td>\n",
       "      <td>165838</td>\n",
       "      <td>[ 0.04297349  0.04315756  0.04330058 ... -0.0639165  -0.06329159\\n -0.06283387]</td>\n",
       "      <td>101_1b1_Al_sc_Meditron</td>\n",
       "      <td>/home/raghav1881/archive/Respiratory_Sound_Database/Respiratory_Sound_Database/data/pre_processed_audio/chunks/101_1b1_Al_sc_Meditron_chunk4.wav</td>\n",
       "    </tr>\n",
       "    <tr>\n",
       "      <th>...</th>\n",
       "      <td>...</td>\n",
       "      <td>...</td>\n",
       "      <td>...</td>\n",
       "      <td>...</td>\n",
       "      <td>...</td>\n",
       "      <td>...</td>\n",
       "      <td>...</td>\n",
       "      <td>...</td>\n",
       "      <td>...</td>\n",
       "      <td>...</td>\n",
       "      <td>...</td>\n",
       "      <td>...</td>\n",
       "    </tr>\n",
       "    <tr>\n",
       "      <th>6</th>\n",
       "      <td>11.721</td>\n",
       "      <td>13.693</td>\n",
       "      <td>1</td>\n",
       "      <td>0</td>\n",
       "      <td>1.972</td>\n",
       "      <td>258448.05</td>\n",
       "      <td>301930.65</td>\n",
       "      <td>258448</td>\n",
       "      <td>301930</td>\n",
       "      <td>[-0.04730458 -0.04737562 -0.04761335 ...  0.03817879  0.03843744\\n  0.03883443]</td>\n",
       "      <td>226_1b1_Pl_sc_LittC2SE</td>\n",
       "      <td>/home/raghav1881/archive/Respiratory_Sound_Database/Respiratory_Sound_Database/data/pre_processed_audio/chunks/226_1b1_Pl_sc_LittC2SE_chunk6.wav</td>\n",
       "    </tr>\n",
       "    <tr>\n",
       "      <th>7</th>\n",
       "      <td>13.693</td>\n",
       "      <td>15.536</td>\n",
       "      <td>0</td>\n",
       "      <td>0</td>\n",
       "      <td>1.843</td>\n",
       "      <td>301930.65</td>\n",
       "      <td>342568.80</td>\n",
       "      <td>301930</td>\n",
       "      <td>342568</td>\n",
       "      <td>[0.03921689 0.03942744 0.03974621 ... 0.02950672 0.02939099 0.02952257]</td>\n",
       "      <td>226_1b1_Pl_sc_LittC2SE</td>\n",
       "      <td>/home/raghav1881/archive/Respiratory_Sound_Database/Respiratory_Sound_Database/data/pre_processed_audio/chunks/226_1b1_Pl_sc_LittC2SE_chunk7.wav</td>\n",
       "    </tr>\n",
       "    <tr>\n",
       "      <th>8</th>\n",
       "      <td>15.536</td>\n",
       "      <td>17.493</td>\n",
       "      <td>0</td>\n",
       "      <td>0</td>\n",
       "      <td>1.957</td>\n",
       "      <td>342568.80</td>\n",
       "      <td>385720.65</td>\n",
       "      <td>342568</td>\n",
       "      <td>385720</td>\n",
       "      <td>[0.02966898 0.02972315 0.02984862 ... 0.00599799 0.00647474 0.00691334]</td>\n",
       "      <td>226_1b1_Pl_sc_LittC2SE</td>\n",
       "      <td>/home/raghav1881/archive/Respiratory_Sound_Database/Respiratory_Sound_Database/data/pre_processed_audio/chunks/226_1b1_Pl_sc_LittC2SE_chunk8.wav</td>\n",
       "    </tr>\n",
       "    <tr>\n",
       "      <th>9</th>\n",
       "      <td>17.493</td>\n",
       "      <td>19.436</td>\n",
       "      <td>1</td>\n",
       "      <td>0</td>\n",
       "      <td>1.943</td>\n",
       "      <td>385720.65</td>\n",
       "      <td>428563.80</td>\n",
       "      <td>385720</td>\n",
       "      <td>428563</td>\n",
       "      <td>[0.00744156 0.00786917 0.00829501 ... 0.16827123 0.1684439  0.16842398]</td>\n",
       "      <td>226_1b1_Pl_sc_LittC2SE</td>\n",
       "      <td>/home/raghav1881/archive/Respiratory_Sound_Database/Respiratory_Sound_Database/data/pre_processed_audio/chunks/226_1b1_Pl_sc_LittC2SE_chunk9.wav</td>\n",
       "    </tr>\n",
       "    <tr>\n",
       "      <th>10</th>\n",
       "      <td>19.436</td>\n",
       "      <td>19.979</td>\n",
       "      <td>0</td>\n",
       "      <td>0</td>\n",
       "      <td>0.543</td>\n",
       "      <td>428563.80</td>\n",
       "      <td>440536.95</td>\n",
       "      <td>428563</td>\n",
       "      <td>440536</td>\n",
       "      <td>[ 0.16849853  0.168586    0.1684814  ... -0.06235609 -0.06226112\\n -0.06224585]</td>\n",
       "      <td>226_1b1_Pl_sc_LittC2SE</td>\n",
       "      <td>/home/raghav1881/archive/Respiratory_Sound_Database/Respiratory_Sound_Database/data/pre_processed_audio/chunks/226_1b1_Pl_sc_LittC2SE_chunk10.wav</td>\n",
       "    </tr>\n",
       "  </tbody>\n",
       "</table>\n",
       "<p>6898 rows × 12 columns</p>\n",
       "</div>"
      ],
      "text/plain": [
       "     Start     End  Crackles  Wheezes  duration  start_index  end_index  start_index_int  end_index_int                                                                        y_segment                  source                                                                                                                                        chunk_names\n",
       "0    0.036   0.579         0        0     0.543       793.80   12766.95              793          12766  [-0.04873171 -0.04849143 -0.04823481 ... -0.08675144 -0.08687682\\n -0.08693124]  101_1b1_Al_sc_Meditron   /home/raghav1881/archive/Respiratory_Sound_Database/Respiratory_Sound_Database/data/pre_processed_audio/chunks/101_1b1_Al_sc_Meditron_chunk0.wav\n",
       "1    0.579   2.450         0        0     1.871     12766.95   54022.50            12766          54022  [-0.08709788 -0.08723557 -0.08731082 ... -0.02195927 -0.02181599\\n -0.02169704]  101_1b1_Al_sc_Meditron   /home/raghav1881/archive/Respiratory_Sound_Database/Respiratory_Sound_Database/data/pre_processed_audio/chunks/101_1b1_Al_sc_Meditron_chunk1.wav\n",
       "2    2.450   3.893         0        0     1.443     54022.50   85840.65            54022          85840  [-0.02180955 -0.02179321 -0.02166934 ... -0.12314763 -0.12324389\\n -0.12332696]  101_1b1_Al_sc_Meditron   /home/raghav1881/archive/Respiratory_Sound_Database/Respiratory_Sound_Database/data/pre_processed_audio/chunks/101_1b1_Al_sc_Meditron_chunk2.wav\n",
       "3    3.893   5.793         0        0     1.900     85840.65  127735.65            85840         127735  [-0.12341598 -0.12354963 -0.12356759 ...  0.04257121  0.04275629\\n  0.04287489]  101_1b1_Al_sc_Meditron   /home/raghav1881/archive/Respiratory_Sound_Database/Respiratory_Sound_Database/data/pre_processed_audio/chunks/101_1b1_Al_sc_Meditron_chunk3.wav\n",
       "4    5.793   7.521         0        0     1.728    127735.65  165838.05           127735         165838  [ 0.04297349  0.04315756  0.04330058 ... -0.0639165  -0.06329159\\n -0.06283387]  101_1b1_Al_sc_Meditron   /home/raghav1881/archive/Respiratory_Sound_Database/Respiratory_Sound_Database/data/pre_processed_audio/chunks/101_1b1_Al_sc_Meditron_chunk4.wav\n",
       "..     ...     ...       ...      ...       ...          ...        ...              ...            ...                                                                              ...                     ...                                                                                                                                                ...\n",
       "6   11.721  13.693         1        0     1.972    258448.05  301930.65           258448         301930  [-0.04730458 -0.04737562 -0.04761335 ...  0.03817879  0.03843744\\n  0.03883443]  226_1b1_Pl_sc_LittC2SE   /home/raghav1881/archive/Respiratory_Sound_Database/Respiratory_Sound_Database/data/pre_processed_audio/chunks/226_1b1_Pl_sc_LittC2SE_chunk6.wav\n",
       "7   13.693  15.536         0        0     1.843    301930.65  342568.80           301930         342568          [0.03921689 0.03942744 0.03974621 ... 0.02950672 0.02939099 0.02952257]  226_1b1_Pl_sc_LittC2SE   /home/raghav1881/archive/Respiratory_Sound_Database/Respiratory_Sound_Database/data/pre_processed_audio/chunks/226_1b1_Pl_sc_LittC2SE_chunk7.wav\n",
       "8   15.536  17.493         0        0     1.957    342568.80  385720.65           342568         385720          [0.02966898 0.02972315 0.02984862 ... 0.00599799 0.00647474 0.00691334]  226_1b1_Pl_sc_LittC2SE   /home/raghav1881/archive/Respiratory_Sound_Database/Respiratory_Sound_Database/data/pre_processed_audio/chunks/226_1b1_Pl_sc_LittC2SE_chunk8.wav\n",
       "9   17.493  19.436         1        0     1.943    385720.65  428563.80           385720         428563          [0.00744156 0.00786917 0.00829501 ... 0.16827123 0.1684439  0.16842398]  226_1b1_Pl_sc_LittC2SE   /home/raghav1881/archive/Respiratory_Sound_Database/Respiratory_Sound_Database/data/pre_processed_audio/chunks/226_1b1_Pl_sc_LittC2SE_chunk9.wav\n",
       "10  19.436  19.979         0        0     0.543    428563.80  440536.95           428563         440536  [ 0.16849853  0.168586    0.1684814  ... -0.06235609 -0.06226112\\n -0.06224585]  226_1b1_Pl_sc_LittC2SE  /home/raghav1881/archive/Respiratory_Sound_Database/Respiratory_Sound_Database/data/pre_processed_audio/chunks/226_1b1_Pl_sc_LittC2SE_chunk10.wav\n",
       "\n",
       "[6898 rows x 12 columns]"
      ]
     },
     "execution_count": 3,
     "metadata": {},
     "output_type": "execute_result"
    }
   ],
   "source": [
    "df = pd.read_csv(\n",
    "    os.path.join(data_dir, 'breath_cycles_updated.csv'), index_col=0)\n",
    "file_paths = df['chunk_names']\n",
    "\n",
    "# Values set when loading audio files\n",
    "n_fft = 256\n",
    "hop_length = 512\n",
    "n_mels = 40\n",
    "df\n"
   ]
  },
  {
   "cell_type": "code",
   "execution_count": 4,
   "metadata": {},
   "outputs": [],
   "source": [
    "def load_file(file_path, n_fft=256, hop_length=512, n_mels=40):\n",
    "    mel_specs = {}\n",
    "    max_mel = {}\n",
    "    min_mel = {}\n",
    "    pad_length = 0\n",
    "\n",
    "    for file_path in file_paths:\n",
    "        y, sr = lr.load(file_path)\n",
    "        mel_spec = lr.feature.melspectrogram(\n",
    "            y=y,\n",
    "            sr=sr,\n",
    "            n_fft=n_fft,\n",
    "            hop_length=hop_length,\n",
    "            n_mels=n_mels)\n",
    "        max_mel, min_mel = np.amax(mel_spec), np.amin(mel_spec)\n",
    "        normalized_mel_spec = (mel_spec - min_mel) / (max_mel - min_mel)\n",
    "        key = os.path.basename(file_path)[:3]\n",
    "        pad_length = max(pad_length, normalized_mel_spec.shape[1])\n",
    "\n",
    "        if key in mel_specs:\n",
    "            mel_specs[key].append(normalized_mel_spec)\n",
    "        else:\n",
    "            mel_specs[key] = [normalized_mel_spec]\n",
    "\n",
    "    return mel_specs, max_mel, min_mel, pad_length\n",
    "\n"
   ]
  },
  {
   "cell_type": "code",
   "execution_count": 5,
   "metadata": {},
   "outputs": [],
   "source": [
    "mel_specs, max_mel, min_mel, pad_length = load_file(file_paths)\n"
   ]
  },
  {
   "cell_type": "code",
   "execution_count": 6,
   "metadata": {},
   "outputs": [
    {
     "data": {
      "text/plain": [
       "(40, 64)"
      ]
     },
     "execution_count": 6,
     "metadata": {},
     "output_type": "execute_result"
    }
   ],
   "source": [
    "mel_specs['102'][0].shape"
   ]
  },
  {
   "cell_type": "code",
   "execution_count": 8,
   "metadata": {},
   "outputs": [
    {
     "data": {
      "image/png": "[encoded data removed]",
      "text/plain": [
       "<Figure size 1000x400 with 2 Axes>"
      ]
     },
     "metadata": {},
     "output_type": "display_data"
    }
   ],
   "source": [
    "plt.figure(figsize=(10, 4))\n",
    "lr.display.specshow(mel_specs['107'][3], x_axis='time',\n",
    "                    y_axis='mel', hop_length=hop_length)\n",
    "plt.colorbar(format='%+2.0f dB')\n",
    "plt.title('Mel spectrogram')\n",
    "plt.tight_layout()\n",
    "plt.show()\n"
   ]
  },
  {
   "cell_type": "code",
   "execution_count": 9,
   "metadata": {},
   "outputs": [],
   "source": [
    "def mel_padding(mel, pad_length):\n",
    "    time_diff = pad_length - mel.shape[1]\n",
    "    left_pad = time_diff // 2\n",
    "    right_pad = time_diff - left_pad\n",
    "    padded_mel = np.pad(mel, ((0, 0), (left_pad, right_pad)), mode='constant', constant_values=0)\n",
    "    return padded_mel\n"
   ]
  },
  {
   "cell_type": "code",
   "execution_count": 10,
   "metadata": {},
   "outputs": [],
   "source": [
    "padded_mels = {}\n",
    "for key, values in mel_specs.items():\n",
    "    for mel in values:\n",
    "        if key in padded_mels:\n",
    "            padded_mels[key].append(mel_padding(mel, pad_length))\n",
    "        else:\n",
    "            padded_mels[key] = [mel_padding(mel, pad_length)]\n"
   ]
  },
  {
   "cell_type": "code",
   "execution_count": 11,
   "metadata": {},
   "outputs": [],
   "source": [
    "def label_dict(df):\n",
    "    labels_dict = {}\n",
    "\n",
    "    for index, row in df.iterrows():\n",
    "        array_labels = []\n",
    "        key = row['source'][:3]\n",
    "        crackle, wheeze = row[\"Crackles\"], row['Wheezes']\n",
    "        array_labels.append([crackle, wheeze])\n",
    "        if key in labels_dict:\n",
    "            labels_dict[key]= np.vstack((labels_dict[key], array_labels))\n",
    "        else:\n",
    "            labels_dict[key] = np.array(array_labels)\n",
    "    return labels_dict"
   ]
  },
  {
   "cell_type": "code",
   "execution_count": 12,
   "metadata": {},
   "outputs": [],
   "source": [
    "labels_dict = label_dict(df)"
   ]
  },
  {
   "cell_type": "code",
   "execution_count": 13,
   "metadata": {},
   "outputs": [
    {
     "name": "stdout",
     "output_type": "stream",
     "text": [
      "(23, 2)\n"
     ]
    }
   ],
   "source": [
    "print(labels_dict['101'].shape)"
   ]
  },
  {
   "cell_type": "code",
   "execution_count": 14,
   "metadata": {},
   "outputs": [],
   "source": [
    "def array_reshape(X):\n",
    "    d1, d2, d3 = X.shape\n",
    "    X = X.reshape((d3, d1, d2, 1))\n",
    "    return X\n",
    "\n",
    "def stack_arrays(padded_dict, labels_dict, keys):\n",
    "    stack_list = []\n",
    "    stack_array_Y = None\n",
    "    \n",
    "    for key in keys:\n",
    "        stacked_arrs = []\n",
    "        if stack_array_Y is None:\n",
    "            stack_array_Y = labels_dict[key]\n",
    "        else:\n",
    "            stack_array_Y = np.vstack((stack_array_Y, labels_dict[key]))\n",
    "        for arr in padded_dict[key]:\n",
    "            stacked_arr = np.expand_dims(arr, axis=2)\n",
    "            stacked_arrs.append(stacked_arr)\n",
    "        stacked_arr = np.concatenate(stacked_arrs, axis=2)\n",
    "        stack_list.append(stacked_arr)\n",
    "    stack_array_X = np.concatenate(stack_list, axis=2)\n",
    "    \n",
    "    return stack_array_X, stack_array_Y\n",
    "\n",
    "def train_test_split_dict(padded_dict, labels_dict):\n",
    "    Y_train, Y_val, Y_test = None, None, None\n",
    "    n = len(padded_dict.keys())\n",
    "    keys_shuffled = list(padded_dict.keys())\n",
    "    \n",
    "    random.shuffle(keys_shuffled)\n",
    "    split_train, split_val = math.ceil(n * 0.5), math.ceil(n * 0.3)\n",
    "\n",
    "    train_keys = keys_shuffled[:split_train]\n",
    "    val_keys = keys_shuffled[split_train:split_train+split_val]\n",
    "    test_keys = keys_shuffled[split_train+split_val:]\n",
    "    \n",
    "    X_train, Y_train = stack_arrays(padded_dict, labels_dict, train_keys)\n",
    "    X_val, Y_val = stack_arrays(padded_dict, labels_dict, val_keys)\n",
    "    X_test, Y_test = stack_arrays(padded_dict, labels_dict, test_keys)\n",
    "\n",
    "    X_train = array_reshape(X_train)\n",
    "    X_val = array_reshape(X_val)\n",
    "    X_test = array_reshape(X_test)\n",
    "\n",
    "    return X_train, X_val, X_test, Y_train, Y_val, Y_test\n",
    "\n",
    "         "
   ]
  },
  {
   "cell_type": "code",
   "execution_count": 15,
   "metadata": {},
   "outputs": [],
   "source": [
    "X_train, X_val, X_test, Y_train, Y_val, Y_test = train_test_split_dict(padded_mels, labels_dict)\n"
   ]
  },
  {
   "cell_type": "code",
   "execution_count": 30,
   "metadata": {},
   "outputs": [],
   "source": [
    "def shuffle_data(X, Y):\n",
    "    rng = np.random.default_rng(seed = 42)\n",
    "    rng.shuffle(X)\n",
    "    rng.shuffle(Y)\n",
    "    return X, Y"
   ]
  },
  {
   "cell_type": "code",
   "execution_count": 31,
   "metadata": {},
   "outputs": [],
   "source": [
    "X_train, Y_train = shuffle_data(X_train, Y_train)\n",
    "X_val, Y_val = shuffle_data(X_val, Y_val)\n",
    "X_test, Y_test = shuffle_data(X_test, Y_test)"
   ]
  },
  {
   "cell_type": "code",
   "execution_count": 90,
   "metadata": {},
   "outputs": [
    {
     "data": {
      "text/plain": [
       "(3625, 40, 697, 1)"
      ]
     },
     "execution_count": 90,
     "metadata": {},
     "output_type": "execute_result"
    }
   ],
   "source": [
    "X_train.shape"
   ]
  },
  {
   "cell_type": "code",
   "execution_count": 85,
   "metadata": {},
   "outputs": [
    {
     "name": "stderr",
     "output_type": "stream",
     "text": [
      "/home/raghav1881/.local/lib/python3.10/site-packages/librosa/core/spectrum.py:256: UserWarning: n_fft=2048 is too large for input signal of length=1\n",
      "  warnings.warn(\n"
     ]
    },
    {
     "ename": "MemoryError",
     "evalue": "Unable to allocate 46.2 GiB for an array with shape (217, 40, 697, 2049) and data type float32",
     "output_type": "error",
     "traceback": [
      "\u001b[0;31m---------------------------------------------------------------------------\u001b[0m",
      "\u001b[0;31mMemoryError\u001b[0m                               Traceback (most recent call last)",
      "Cell \u001b[0;32mIn[85], line 2\u001b[0m\n\u001b[1;32m      1\u001b[0m aug \u001b[39m=\u001b[39m ag\u001b[39m.\u001b[39mVtlpAug(\u001b[39m4480\u001b[39m)\n\u001b[0;32m----> 2\u001b[0m augmented_data \u001b[39m=\u001b[39m aug\u001b[39m.\u001b[39;49maugment(X_train)\n",
      "File \u001b[0;32m~/miniconda3/lib/python3.10/site-packages/nlpaug/base_augmenter.py:119\u001b[0m, in \u001b[0;36mAugmenter.augment\u001b[0;34m(self, data, n, num_thread)\u001b[0m\n\u001b[1;32m    115\u001b[0m \u001b[39m# Single input with/without multiple input\u001b[39;00m\n\u001b[1;32m    116\u001b[0m \u001b[39melse\u001b[39;00m:\n\u001b[1;32m    117\u001b[0m     \u001b[39m# Single Thread\u001b[39;00m\n\u001b[1;32m    118\u001b[0m     \u001b[39mif\u001b[39;00m num_thread \u001b[39m==\u001b[39m \u001b[39m1\u001b[39m:\n\u001b[0;32m--> 119\u001b[0m         augmented_results \u001b[39m=\u001b[39m [action_fx(clean_data) \u001b[39mfor\u001b[39;00m _ \u001b[39min\u001b[39;00m \u001b[39mrange\u001b[39m(n)]\n\u001b[1;32m    121\u001b[0m     \u001b[39m# Multi Thread\u001b[39;00m\n\u001b[1;32m    122\u001b[0m     \u001b[39melse\u001b[39;00m:\n\u001b[1;32m    123\u001b[0m         augmented_results \u001b[39m=\u001b[39m \u001b[39mself\u001b[39m\u001b[39m.\u001b[39m_parallel_augment(action_fx, clean_data, n\u001b[39m=\u001b[39mn, num_thread\u001b[39m=\u001b[39mnum_thread)\n",
      "File \u001b[0;32m~/miniconda3/lib/python3.10/site-packages/nlpaug/base_augmenter.py:119\u001b[0m, in \u001b[0;36m<listcomp>\u001b[0;34m(.0)\u001b[0m\n\u001b[1;32m    115\u001b[0m \u001b[39m# Single input with/without multiple input\u001b[39;00m\n\u001b[1;32m    116\u001b[0m \u001b[39melse\u001b[39;00m:\n\u001b[1;32m    117\u001b[0m     \u001b[39m# Single Thread\u001b[39;00m\n\u001b[1;32m    118\u001b[0m     \u001b[39mif\u001b[39;00m num_thread \u001b[39m==\u001b[39m \u001b[39m1\u001b[39m:\n\u001b[0;32m--> 119\u001b[0m         augmented_results \u001b[39m=\u001b[39m [action_fx(clean_data) \u001b[39mfor\u001b[39;00m _ \u001b[39min\u001b[39;00m \u001b[39mrange\u001b[39m(n)]\n\u001b[1;32m    121\u001b[0m     \u001b[39m# Multi Thread\u001b[39;00m\n\u001b[1;32m    122\u001b[0m     \u001b[39melse\u001b[39;00m:\n\u001b[1;32m    123\u001b[0m         augmented_results \u001b[39m=\u001b[39m \u001b[39mself\u001b[39m\u001b[39m.\u001b[39m_parallel_augment(action_fx, clean_data, n\u001b[39m=\u001b[39mn, num_thread\u001b[39m=\u001b[39mnum_thread)\n",
      "File \u001b[0;32m~/miniconda3/lib/python3.10/site-packages/nlpaug/augmenter/audio/vtlp.py:49\u001b[0m, in \u001b[0;36mVtlpAug.substitute\u001b[0;34m(self, data)\u001b[0m\n\u001b[1;32m     46\u001b[0m \u001b[39mif\u001b[39;00m \u001b[39mnot\u001b[39;00m \u001b[39mself\u001b[39m\u001b[39m.\u001b[39mstateless:\n\u001b[1;32m     47\u001b[0m     \u001b[39mself\u001b[39m\u001b[39m.\u001b[39mstart_pos, \u001b[39mself\u001b[39m\u001b[39m.\u001b[39mend_pos, \u001b[39mself\u001b[39m\u001b[39m.\u001b[39maug_factor \u001b[39m=\u001b[39m start_pos, end_pos, warp_factor\n\u001b[0;32m---> 49\u001b[0m \u001b[39mreturn\u001b[39;00m \u001b[39mself\u001b[39;49m\u001b[39m.\u001b[39;49mmodel\u001b[39m.\u001b[39;49mmanipulate(data, start_pos\u001b[39m=\u001b[39;49mstart_pos, end_pos\u001b[39m=\u001b[39;49mend_pos, sampling_rate\u001b[39m=\u001b[39;49m\u001b[39mself\u001b[39;49m\u001b[39m.\u001b[39;49msampling_rate,\n\u001b[1;32m     50\u001b[0m     warp_factor\u001b[39m=\u001b[39;49mwarp_factor)\n",
      "File \u001b[0;32m~/miniconda3/lib/python3.10/site-packages/nlpaug/model/audio/vtlp.py:66\u001b[0m, in \u001b[0;36mVtlp.manipulate\u001b[0;34m(self, data, start_pos, end_pos, sampling_rate, warp_factor)\u001b[0m\n\u001b[1;32m     65\u001b[0m \u001b[39mdef\u001b[39;00m \u001b[39mmanipulate\u001b[39m(\u001b[39mself\u001b[39m, data, start_pos, end_pos, sampling_rate, warp_factor):\n\u001b[0;32m---> 66\u001b[0m     aug_data \u001b[39m=\u001b[39m \u001b[39mself\u001b[39;49m\u001b[39m.\u001b[39;49m_manipulate(data[start_pos:end_pos], sampling_rate\u001b[39m=\u001b[39;49msampling_rate, factor\u001b[39m=\u001b[39;49mwarp_factor)\n\u001b[1;32m     68\u001b[0m     \u001b[39mreturn\u001b[39;00m np\u001b[39m.\u001b[39mconcatenate((data[:start_pos], aug_data, data[end_pos:]), axis\u001b[39m=\u001b[39m\u001b[39m0\u001b[39m)\u001b[39m.\u001b[39mastype(\u001b[39mtype\u001b[39m(data[\u001b[39m0\u001b[39m]))\n",
      "File \u001b[0;32m~/miniconda3/lib/python3.10/site-packages/nlpaug/model/audio/vtlp.py:43\u001b[0m, in \u001b[0;36mVtlp._manipulate\u001b[0;34m(self, audio, sampling_rate, factor)\u001b[0m\n\u001b[1;32m     42\u001b[0m \u001b[39mdef\u001b[39;00m \u001b[39m_manipulate\u001b[39m(\u001b[39mself\u001b[39m, audio, sampling_rate, factor):\n\u001b[0;32m---> 43\u001b[0m     stft \u001b[39m=\u001b[39m librosa\u001b[39m.\u001b[39;49mcore\u001b[39m.\u001b[39;49mstft(audio)\n\u001b[1;32m     44\u001b[0m     freq_dim, time_dim \u001b[39m=\u001b[39m stft\u001b[39m.\u001b[39mshape\n\u001b[1;32m     45\u001b[0m     data_type \u001b[39m=\u001b[39m \u001b[39mtype\u001b[39m(stft[\u001b[39m0\u001b[39m][\u001b[39m0\u001b[39m])\n",
      "File \u001b[0;32m~/.local/lib/python3.10/site-packages/librosa/core/spectrum.py:274\u001b[0m, in \u001b[0;36mstft\u001b[0;34m(y, n_fft, hop_length, win_length, window, center, dtype, pad_mode, out)\u001b[0m\n\u001b[1;32m    272\u001b[0m     extra \u001b[39m=\u001b[39m \u001b[39m0\u001b[39m\n\u001b[1;32m    273\u001b[0m     padding[\u001b[39m-\u001b[39m\u001b[39m1\u001b[39m] \u001b[39m=\u001b[39m (n_fft \u001b[39m/\u001b[39m\u001b[39m/\u001b[39m \u001b[39m2\u001b[39m, n_fft \u001b[39m/\u001b[39m\u001b[39m/\u001b[39m \u001b[39m2\u001b[39m)\n\u001b[0;32m--> 274\u001b[0m     y \u001b[39m=\u001b[39m np\u001b[39m.\u001b[39;49mpad(y, padding, mode\u001b[39m=\u001b[39;49mpad_mode)\n\u001b[1;32m    275\u001b[0m \u001b[39melse\u001b[39;00m:\n\u001b[1;32m    276\u001b[0m     \u001b[39m# If tail and head do not overlap, then we can implement padding on each part separately\u001b[39;00m\n\u001b[1;32m    277\u001b[0m     \u001b[39m# and avoid a full copy-pad\u001b[39;00m\n\u001b[1;32m    278\u001b[0m \n\u001b[1;32m    279\u001b[0m     \u001b[39m# \"Middle\" of the signal starts here, and does not depend on head padding\u001b[39;00m\n\u001b[1;32m    280\u001b[0m     start \u001b[39m=\u001b[39m start_k \u001b[39m*\u001b[39m hop_length \u001b[39m-\u001b[39m n_fft \u001b[39m/\u001b[39m\u001b[39m/\u001b[39m \u001b[39m2\u001b[39m\n",
      "File \u001b[0;32m<__array_function__ internals>:180\u001b[0m, in \u001b[0;36mpad\u001b[0;34m(*args, **kwargs)\u001b[0m\n",
      "File \u001b[0;32m~/.local/lib/python3.10/site-packages/numpy/lib/arraypad.py:793\u001b[0m, in \u001b[0;36mpad\u001b[0;34m(array, pad_width, mode, **kwargs)\u001b[0m\n\u001b[1;32m    788\u001b[0m stat_functions \u001b[39m=\u001b[39m {\u001b[39m\"\u001b[39m\u001b[39mmaximum\u001b[39m\u001b[39m\"\u001b[39m: np\u001b[39m.\u001b[39mamax, \u001b[39m\"\u001b[39m\u001b[39mminimum\u001b[39m\u001b[39m\"\u001b[39m: np\u001b[39m.\u001b[39mamin,\n\u001b[1;32m    789\u001b[0m                   \u001b[39m\"\u001b[39m\u001b[39mmean\u001b[39m\u001b[39m\"\u001b[39m: np\u001b[39m.\u001b[39mmean, \u001b[39m\"\u001b[39m\u001b[39mmedian\u001b[39m\u001b[39m\"\u001b[39m: np\u001b[39m.\u001b[39mmedian}\n\u001b[1;32m    791\u001b[0m \u001b[39m# Create array with final shape and original values\u001b[39;00m\n\u001b[1;32m    792\u001b[0m \u001b[39m# (padded area is undefined)\u001b[39;00m\n\u001b[0;32m--> 793\u001b[0m padded, original_area_slice \u001b[39m=\u001b[39m _pad_simple(array, pad_width)\n\u001b[1;32m    794\u001b[0m \u001b[39m# And prepare iteration over all dimensions\u001b[39;00m\n\u001b[1;32m    795\u001b[0m \u001b[39m# (zipping may be more readable than using enumerate)\u001b[39;00m\n\u001b[1;32m    796\u001b[0m axes \u001b[39m=\u001b[39m \u001b[39mrange\u001b[39m(padded\u001b[39m.\u001b[39mndim)\n",
      "File \u001b[0;32m~/.local/lib/python3.10/site-packages/numpy/lib/arraypad.py:114\u001b[0m, in \u001b[0;36m_pad_simple\u001b[0;34m(array, pad_width, fill_value)\u001b[0m\n\u001b[1;32m    109\u001b[0m new_shape \u001b[39m=\u001b[39m \u001b[39mtuple\u001b[39m(\n\u001b[1;32m    110\u001b[0m     left \u001b[39m+\u001b[39m size \u001b[39m+\u001b[39m right\n\u001b[1;32m    111\u001b[0m     \u001b[39mfor\u001b[39;00m size, (left, right) \u001b[39min\u001b[39;00m \u001b[39mzip\u001b[39m(array\u001b[39m.\u001b[39mshape, pad_width)\n\u001b[1;32m    112\u001b[0m )\n\u001b[1;32m    113\u001b[0m order \u001b[39m=\u001b[39m \u001b[39m'\u001b[39m\u001b[39mF\u001b[39m\u001b[39m'\u001b[39m \u001b[39mif\u001b[39;00m array\u001b[39m.\u001b[39mflags\u001b[39m.\u001b[39mfnc \u001b[39melse\u001b[39;00m \u001b[39m'\u001b[39m\u001b[39mC\u001b[39m\u001b[39m'\u001b[39m  \u001b[39m# Fortran and not also C-order\u001b[39;00m\n\u001b[0;32m--> 114\u001b[0m padded \u001b[39m=\u001b[39m np\u001b[39m.\u001b[39;49mempty(new_shape, dtype\u001b[39m=\u001b[39;49marray\u001b[39m.\u001b[39;49mdtype, order\u001b[39m=\u001b[39;49morder)\n\u001b[1;32m    116\u001b[0m \u001b[39mif\u001b[39;00m fill_value \u001b[39mis\u001b[39;00m \u001b[39mnot\u001b[39;00m \u001b[39mNone\u001b[39;00m:\n\u001b[1;32m    117\u001b[0m     padded\u001b[39m.\u001b[39mfill(fill_value)\n",
      "\u001b[0;31mMemoryError\u001b[0m: Unable to allocate 46.2 GiB for an array with shape (217, 40, 697, 2049) and data type float32"
     ]
    }
   ],
   "source": [
    "aug = ag.VtlpAug(4480)\n",
    "augmented_data = aug.augment(X_train)"
   ]
  },
  {
   "cell_type": "code",
   "execution_count": 91,
   "metadata": {},
   "outputs": [
    {
     "name": "stdout",
     "output_type": "stream",
     "text": [
      "Model: \"sequential_37\"\n",
      "_________________________________________________________________\n",
      " Layer (type)                Output Shape              Param #   \n",
      "=================================================================\n",
      " conv2d_74 (Conv2D)          (None, 38, 695, 2)        10        \n",
      "                                                                 \n",
      " conv2d_75 (Conv2D)          (None, 36, 693, 4)        36        \n",
      "                                                                 \n",
      " max_pooling2d_37 (MaxPoolin  (None, 18, 346, 4)       0         \n",
      " g2D)                                                            \n",
      "                                                                 \n",
      " flatten_37 (Flatten)        (None, 24912)             0         \n",
      "                                                                 \n",
      " dense_74 (Dense)            (None, 8)                 199304    \n",
      "                                                                 \n",
      " dense_75 (Dense)            (None, 2)                 18        \n",
      "                                                                 \n",
      "=================================================================\n",
      "Total params: 199,368\n",
      "Trainable params: 199,368\n",
      "Non-trainable params: 0\n",
      "_________________________________________________________________\n",
      "Epoch 1/40\n",
      "57/57 [==============================] - 3s 50ms/step - loss: 0.3825 - accuracy: 0.7749 - mae: 0.5000 - val_loss: 0.3894 - val_accuracy: 0.7805 - val_mae: 0.5000\n",
      "Epoch 2/40\n",
      "57/57 [==============================] - 2s 41ms/step - loss: 0.3824 - accuracy: 0.7986 - mae: 0.5000 - val_loss: 0.3894 - val_accuracy: 0.7881 - val_mae: 0.5000\n",
      "Epoch 3/40\n",
      "57/57 [==============================] - 2s 41ms/step - loss: 0.3824 - accuracy: 0.8163 - mae: 0.5000 - val_loss: 0.3894 - val_accuracy: 0.7993 - val_mae: 0.5000\n",
      "Epoch 4/40\n",
      "57/57 [==============================] - 2s 43ms/step - loss: 0.3824 - accuracy: 0.8276 - mae: 0.5000 - val_loss: 0.3893 - val_accuracy: 0.8100 - val_mae: 0.5000\n",
      "Epoch 5/40\n",
      "57/57 [==============================] - 2s 42ms/step - loss: 0.3823 - accuracy: 0.8383 - mae: 0.5000 - val_loss: 0.3893 - val_accuracy: 0.8194 - val_mae: 0.4999\n",
      "Epoch 6/40\n",
      "57/57 [==============================] - 3s 49ms/step - loss: 0.3823 - accuracy: 0.8455 - mae: 0.4999 - val_loss: 0.3893 - val_accuracy: 0.8253 - val_mae: 0.4999\n",
      "Epoch 7/40\n",
      "57/57 [==============================] - 2s 43ms/step - loss: 0.3823 - accuracy: 0.8549 - mae: 0.4999 - val_loss: 0.3893 - val_accuracy: 0.8306 - val_mae: 0.4999\n",
      "Epoch 8/40\n",
      "57/57 [==============================] - 3s 44ms/step - loss: 0.3822 - accuracy: 0.8615 - mae: 0.4999 - val_loss: 0.3893 - val_accuracy: 0.8320 - val_mae: 0.4999\n",
      "Epoch 9/40\n",
      "57/57 [==============================] - 2s 44ms/step - loss: 0.3822 - accuracy: 0.8654 - mae: 0.4999 - val_loss: 0.3893 - val_accuracy: 0.8374 - val_mae: 0.4999\n",
      "Epoch 10/40\n",
      "57/57 [==============================] - 2s 42ms/step - loss: 0.3821 - accuracy: 0.8676 - mae: 0.4999 - val_loss: 0.3892 - val_accuracy: 0.8414 - val_mae: 0.4999\n",
      "Epoch 11/40\n",
      "57/57 [==============================] - 2s 41ms/step - loss: 0.3821 - accuracy: 0.8703 - mae: 0.4998 - val_loss: 0.3892 - val_accuracy: 0.8454 - val_mae: 0.4999\n",
      "Epoch 12/40\n",
      "57/57 [==============================] - 3s 46ms/step - loss: 0.3821 - accuracy: 0.8745 - mae: 0.4998 - val_loss: 0.3892 - val_accuracy: 0.8481 - val_mae: 0.4999\n",
      "Epoch 13/40\n",
      "57/57 [==============================] - 2s 42ms/step - loss: 0.3820 - accuracy: 0.8789 - mae: 0.4998 - val_loss: 0.3892 - val_accuracy: 0.8490 - val_mae: 0.4999\n",
      "Epoch 14/40\n",
      "57/57 [==============================] - 2s 41ms/step - loss: 0.3820 - accuracy: 0.8803 - mae: 0.4998 - val_loss: 0.3891 - val_accuracy: 0.8499 - val_mae: 0.4998\n",
      "Epoch 15/40\n",
      "57/57 [==============================] - 2s 41ms/step - loss: 0.3819 - accuracy: 0.8817 - mae: 0.4997 - val_loss: 0.3891 - val_accuracy: 0.8499 - val_mae: 0.4998\n",
      "Epoch 16/40\n",
      "57/57 [==============================] - 2s 40ms/step - loss: 0.3819 - accuracy: 0.8825 - mae: 0.4997 - val_loss: 0.3891 - val_accuracy: 0.8508 - val_mae: 0.4998\n",
      "Epoch 17/40\n",
      "57/57 [==============================] - 2s 40ms/step - loss: 0.3818 - accuracy: 0.8825 - mae: 0.4997 - val_loss: 0.3891 - val_accuracy: 0.8513 - val_mae: 0.4998\n",
      "Epoch 18/40\n",
      "57/57 [==============================] - 2s 40ms/step - loss: 0.3818 - accuracy: 0.8830 - mae: 0.4997 - val_loss: 0.3890 - val_accuracy: 0.8508 - val_mae: 0.4998\n",
      "Epoch 19/40\n",
      "57/57 [==============================] - 2s 40ms/step - loss: 0.3817 - accuracy: 0.8833 - mae: 0.4996 - val_loss: 0.3890 - val_accuracy: 0.8513 - val_mae: 0.4998\n",
      "Epoch 20/40\n",
      "57/57 [==============================] - 2s 39ms/step - loss: 0.3816 - accuracy: 0.8836 - mae: 0.4996 - val_loss: 0.3890 - val_accuracy: 0.8517 - val_mae: 0.4998\n",
      "Epoch 21/40\n",
      "57/57 [==============================] - 2s 40ms/step - loss: 0.3815 - accuracy: 0.8836 - mae: 0.4996 - val_loss: 0.3889 - val_accuracy: 0.8517 - val_mae: 0.4997\n",
      "Epoch 22/40\n",
      "57/57 [==============================] - 2s 40ms/step - loss: 0.3815 - accuracy: 0.8841 - mae: 0.4995 - val_loss: 0.3889 - val_accuracy: 0.8517 - val_mae: 0.4997\n",
      "Epoch 23/40\n",
      "57/57 [==============================] - 2s 42ms/step - loss: 0.3814 - accuracy: 0.8839 - mae: 0.4995 - val_loss: 0.3888 - val_accuracy: 0.8517 - val_mae: 0.4997\n",
      "Epoch 24/40\n",
      "57/57 [==============================] - 3s 48ms/step - loss: 0.3813 - accuracy: 0.8839 - mae: 0.4994 - val_loss: 0.3888 - val_accuracy: 0.8517 - val_mae: 0.4997\n",
      "Epoch 25/40\n",
      "57/57 [==============================] - 2s 42ms/step - loss: 0.3812 - accuracy: 0.8841 - mae: 0.4994 - val_loss: 0.3887 - val_accuracy: 0.8517 - val_mae: 0.4996\n",
      "Epoch 26/40\n",
      "57/57 [==============================] - 2s 41ms/step - loss: 0.3811 - accuracy: 0.8841 - mae: 0.4993 - val_loss: 0.3887 - val_accuracy: 0.8517 - val_mae: 0.4996\n",
      "Epoch 27/40\n",
      "57/57 [==============================] - 2s 41ms/step - loss: 0.3810 - accuracy: 0.8841 - mae: 0.4993 - val_loss: 0.3886 - val_accuracy: 0.8517 - val_mae: 0.4996\n",
      "Epoch 28/40\n",
      "57/57 [==============================] - 2s 43ms/step - loss: 0.3809 - accuracy: 0.8841 - mae: 0.4992 - val_loss: 0.3886 - val_accuracy: 0.8517 - val_mae: 0.4996\n",
      "Epoch 29/40\n",
      "57/57 [==============================] - 2s 42ms/step - loss: 0.3808 - accuracy: 0.8841 - mae: 0.4992 - val_loss: 0.3885 - val_accuracy: 0.8517 - val_mae: 0.4995\n",
      "Epoch 30/40\n",
      "57/57 [==============================] - 2s 40ms/step - loss: 0.3807 - accuracy: 0.8841 - mae: 0.4991 - val_loss: 0.3885 - val_accuracy: 0.8517 - val_mae: 0.4995\n",
      "Epoch 31/40\n",
      "57/57 [==============================] - 2s 40ms/step - loss: 0.3806 - accuracy: 0.8841 - mae: 0.4990 - val_loss: 0.3884 - val_accuracy: 0.8517 - val_mae: 0.4995\n",
      "Epoch 32/40\n",
      "57/57 [==============================] - 2s 40ms/step - loss: 0.3804 - accuracy: 0.8841 - mae: 0.4990 - val_loss: 0.3883 - val_accuracy: 0.8517 - val_mae: 0.4994\n",
      "Epoch 33/40\n",
      "57/57 [==============================] - 2s 40ms/step - loss: 0.3803 - accuracy: 0.8841 - mae: 0.4989 - val_loss: 0.3883 - val_accuracy: 0.8517 - val_mae: 0.4994\n",
      "Epoch 34/40\n",
      "57/57 [==============================] - 2s 42ms/step - loss: 0.3802 - accuracy: 0.8841 - mae: 0.4989 - val_loss: 0.3882 - val_accuracy: 0.8517 - val_mae: 0.4994\n",
      "Epoch 35/40\n",
      "57/57 [==============================] - 3s 45ms/step - loss: 0.3801 - accuracy: 0.8841 - mae: 0.4988 - val_loss: 0.3882 - val_accuracy: 0.8517 - val_mae: 0.4993\n",
      "Epoch 36/40\n",
      "57/57 [==============================] - 3s 44ms/step - loss: 0.3800 - accuracy: 0.8841 - mae: 0.4987 - val_loss: 0.3881 - val_accuracy: 0.8517 - val_mae: 0.4993\n",
      "Epoch 37/40\n",
      "57/57 [==============================] - 2s 42ms/step - loss: 0.3798 - accuracy: 0.8841 - mae: 0.4987 - val_loss: 0.3880 - val_accuracy: 0.8517 - val_mae: 0.4993\n",
      "Epoch 38/40\n",
      "57/57 [==============================] - 2s 43ms/step - loss: 0.3797 - accuracy: 0.8841 - mae: 0.4986 - val_loss: 0.3880 - val_accuracy: 0.8517 - val_mae: 0.4992\n",
      "Epoch 39/40\n",
      "57/57 [==============================] - 2s 41ms/step - loss: 0.3796 - accuracy: 0.8841 - mae: 0.4985 - val_loss: 0.3879 - val_accuracy: 0.8517 - val_mae: 0.4992\n",
      "Epoch 40/40\n",
      "57/57 [==============================] - 2s 40ms/step - loss: 0.3794 - accuracy: 0.8841 - mae: 0.4984 - val_loss: 0.3878 - val_accuracy: 0.8517 - val_mae: 0.4991\n"
     ]
    }
   ],
   "source": [
    "input_shape = (n_mels, pad_length, 1)\n",
    "model = Sequential()\n",
    "model.add(Conv2D(2, kernel_size=(2, 2), activation=\"relu\",\n",
    "          input_shape=input_shape, dilation_rate=2))\n",
    "\n",
    "model.add(Conv2D(4, kernel_size=(2, 2), activation='relu', dilation_rate=2))\n",
    "model.add(MaxPooling2D(pool_size=(2, 2)))\n",
    "\n",
    "model.add(Flatten())\n",
    "\n",
    "model.add(Dense(8, activation='relu'))\n",
    "model.add(Dense(2, activation='softmax'))\n",
    "\n",
    "opt = Adam(learning_rate=0.000001)\n",
    "model.compile(loss=\"categorical_crossentropy\",\n",
    "              optimizer=opt, metrics=[\"accuracy\"])\n",
    "model.summary()\n",
    "history = model.fit(X_train, Y_train, batch_size=64,\n",
    "                    epochs=40, validation_data=(X_val, Y_val))\n"
   ]
  },
  {
   "cell_type": "code",
   "execution_count": null,
   "metadata": {},
   "outputs": [
    {
     "name": "stdout",
     "output_type": "stream",
     "text": [
      "Accuracy: 85%\n",
      "Loss: 0.3883\n",
      "\n"
     ]
    },
    {
     "data": {
      "text/plain": [
       "<matplotlib.legend.Legend at 0x7fbdd462c550>"
      ]
     },
     "execution_count": 38,
     "metadata": {},
     "output_type": "execute_result"
    },
    {
     "data": {
      "image/png": "[encoded data removed]",
      "text/plain": [
       "<Figure size 1500x500 with 2 Axes>"
      ]
     },
     "metadata": {},
     "output_type": "display_data"
    }
   ],
   "source": [
    "score = model.evaluate(X_val, Y_val, batch_size=60, verbose=0)\n",
    "print('Accuracy: {0:.0%}'.format(score[1]/1))\n",
    "print(\"Loss: %.4f\\n\" % score[0])\n",
    "\n",
    "# Plot accuracy and loss graphs\n",
    "plt.figure(figsize=(15, 5))\n",
    "plt.subplot(1, 2, 1)\n",
    "plt.title('Accuracy')\n",
    "plt.plot(history.history['accuracy'], label='training acc')\n",
    "plt.plot(history.history['val_accuracy'], label='validation acc')\n",
    "plt.legend()\n",
    "\n",
    "plt.subplot(1, 2, 2)\n",
    "plt.title('Loss')\n",
    "plt.plot(history.history['loss'], label='training loss')\n",
    "plt.plot(history.history['val_loss'], label='validation loss')\n",
    "plt.legend()\n"
   ]
  },
  {
   "cell_type": "code",
   "execution_count": null,
   "metadata": {},
   "outputs": [],
   "source": []
  }
 ],
 "metadata": {
  "kernelspec": {
   "display_name": "Python 3",
   "language": "python",
   "name": "python3"
  },
  "language_info": {
   "codemirror_mode": {
    "name": "ipython",
    "version": 3
   },
   "file_extension": ".py",
   "mimetype": "text/x-python",
   "name": "python",
   "nbconvert_exporter": "python",
   "pygments_lexer": "ipython3",
   "version": "3.10.9"
  },
  "orig_nbformat": 4
 },
 "nbformat": 4,
 "nbformat_minor": 2
}
